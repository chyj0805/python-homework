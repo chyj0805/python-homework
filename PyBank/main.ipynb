{
 "cells": [
  {
   "cell_type": "code",
   "execution_count": 53,
   "id": "428bb087-481c-473a-a2f7-01fbbe0b6b01",
   "metadata": {},
   "outputs": [],
   "source": [
    "## import module\n",
    "import pandas as pd"
   ]
  },
  {
   "cell_type": "code",
   "execution_count": 62,
   "id": "c572de88-4275-4716-9b21-43717dec04f6",
   "metadata": {},
   "outputs": [],
   "source": [
    "## read the csv file\n",
    "data=pd.read_csv('budget_data.csv')\n",
    "## display all rows in the data\n",
    "pd.set_option('display.max_rows', 1)"
   ]
  },
  {
   "cell_type": "code",
   "execution_count": 63,
   "id": "7361d153-d301-421b-8ada-92d590a17ec6",
   "metadata": {},
   "outputs": [
    {
     "name": "stdout",
     "output_type": "stream",
     "text": [
      "        Date  Profit/Losses\n",
      "0   Jan-2010         867884\n",
      "..       ...            ...\n",
      "\n",
      "[86 rows x 2 columns]\n"
     ]
    }
   ],
   "source": [
    "## display dataset\n",
    "print(data)"
   ]
  },
  {
   "cell_type": "code",
   "execution_count": 75,
   "id": "a848e4f8-cc19-48b7-a508-5f5c3030c805",
   "metadata": {},
   "outputs": [
    {
     "name": "stdout",
     "output_type": "stream",
     "text": [
      "Financial Analysis\n",
      "---------------------\n",
      "Total Months:  86\n",
      "Total Profit: $ 38382578\n",
      "Average Change : $ -2315.12\n"
     ]
    }
   ],
   "source": [
    "\n",
    "## calculate the total profit\n",
    "total_profit = data['Profit/Losses'].sum()\n",
    "def calculate_average_change(data):\n",
    "    changes = data.diff()  ## Calculate the differences between consecutive values\n",
    "    average_changes = changes.mean() ## Calculate the average of the changes\n",
    "    return average_changes\n",
    "average_changes = calculate_average_change(data['Profit/Losses']) ## Calculate the average of the changes in the 'Profit/Losses' column\n",
    "\n",
    "\n",
    "\n",
    "\n",
    "\n",
    "\n",
    "print(\"Financial Analysis\")\n",
    "print(\"---------------------\")\n",
    "print('Total Months: ',len(data))\n",
    "print('Total Profit: $',total_profit)\n",
    "print('Average Change : $', '%.2f'%average_changes)"
   ]
  },
  {
   "cell_type": "code",
   "execution_count": null,
   "id": "a50fde5e-a185-4038-87df-58f444d0048c",
   "metadata": {},
   "outputs": [],
   "source": []
  }
 ],
 "metadata": {
  "kernelspec": {
   "display_name": "Python 3 (ipykernel)",
   "language": "python",
   "name": "python3"
  },
  "language_info": {
   "codemirror_mode": {
    "name": "ipython",
    "version": 3
   },
   "file_extension": ".py",
   "mimetype": "text/x-python",
   "name": "python",
   "nbconvert_exporter": "python",
   "pygments_lexer": "ipython3",
   "version": "3.10.11"
  }
 },
 "nbformat": 4,
 "nbformat_minor": 5
}
